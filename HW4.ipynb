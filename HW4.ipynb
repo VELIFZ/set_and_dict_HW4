{
 "cells": [
  {
   "cell_type": "markdown",
   "id": "e1d11770",
   "metadata": {},
   "source": [
    "### 1) Create a program that allows a user to continue to add people to an address book until the user quits. Once the user quits, break out of the loop and print out the name and address of everyone in the address book"
   ]
  },
  {
   "cell_type": "markdown",
   "id": "8a344aaa",
   "metadata": {},
   "source": [
    "###### Steps\n",
    "1. Create a function that will ask user for name and addresses and stores them in a dictionary\n",
    "2. Define an empty dictionary with which to work (global or local variable?)\n",
    "3. Begin a loop that will continue to ask a user for information until the user \"quits\"\n",
    "4. If the user does not quit, ask for a name and address and store the variables into variables\n",
    "5. Add information to the dictionary with name as the key and address as the value\n",
    "6. If the user does quit, end the loop\n",
    "7. Print out the information from the dictionary in a formatted way\n",
    "8. Execute/Call the function"
   ]
  },
  {
   "cell_type": "code",
   "execution_count": 2,
   "id": "10916661",
   "metadata": {},
   "outputs": [
    {
     "name": "stdout",
     "output_type": "stream",
     "text": [
      "Elif  411 Village Ave\n",
      "Zambak 158 Willow Ave\n",
      "Lilo 158 Willow Ave\n"
     ]
    }
   ],
   "source": [
    "from IPython.display import clear_output\n",
    "\n",
    "def info():\n",
    "    address_book = {}\n",
    "    ask = 'add'\n",
    "    while ask == 'add':\n",
    "        ask = input('Would you like to add or quit?')\n",
    "        if ask == 'add':\n",
    "            name = input('What is your name?: ')\n",
    "            address = input('What is your address?: ')\n",
    "            address_book[name] = address\n",
    "        elif ask == 'quit':\n",
    "            break\n",
    "    clear_output()\n",
    "    \n",
    "    for k, v in address_book.items():\n",
    "        print(k, v)\n",
    "\n",
    "info()"
   ]
  },
  {
   "cell_type": "markdown",
   "id": "255d2757",
   "metadata": {},
   "source": [
    "### 2) Best Time to Meet"
   ]
  },
  {
   "cell_type": "markdown",
   "id": "1c49bc74",
   "metadata": {},
   "source": [
    "Billy is trying to figure out if there is a time that he and his team can meet to work on the project. His three teammates each give him a list of times they are available ('HH:MM' 24-hour). Create a function that will take in the list of all the teammates and return a list of times where everyone can meet."
   ]
  },
  {
   "cell_type": "code",
   "execution_count": 1,
   "id": "d015bd7a",
   "metadata": {},
   "outputs": [
    {
     "data": {
      "text/plain": [
       "['12:00', '14:30']"
      ]
     },
     "execution_count": 1,
     "metadata": {},
     "output_type": "execute_result"
    }
   ],
   "source": [
    "billy_times = ['09:00', '10:30', '11:30', '12:00', '13:00', '14:30']\n",
    "teammate_1 = ['09:30', '10:00', '10:30', '12:00', '14:30', '16:00']\n",
    "teammate_2 = ['09:00', '09:30', '11:00', '11:30', '12:00', '13:30', '14:30', '15:00']\n",
    "teammate_3 = ['11:00', '11:30', '12:00', '14:00', '14:30', '16:30', '17:00']\n",
    "\n",
    "def meeting_times():\n",
    "    \n",
    "    perfect_time = list(set(billy_times)& set(teammate_1) & set(teammate_2) & set(teammate_3))\n",
    "    return [i for i in perfect_time]\n",
    "\n",
    "meeting_times()"
   ]
  }
 ],
 "metadata": {
  "kernelspec": {
   "display_name": "Python 3",
   "language": "python",
   "name": "python3"
  },
  "language_info": {
   "codemirror_mode": {
    "name": "ipython",
    "version": 3
   },
   "file_extension": ".py",
   "mimetype": "text/x-python",
   "name": "python",
   "nbconvert_exporter": "python",
   "pygments_lexer": "ipython3",
   "version": "3.8.8"
  }
 },
 "nbformat": 4,
 "nbformat_minor": 5
}
